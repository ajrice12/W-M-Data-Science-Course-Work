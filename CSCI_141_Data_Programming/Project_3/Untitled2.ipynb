{
 "cells": [
  {
   "cell_type": "code",
   "execution_count": 15,
   "id": "064dda2e",
   "metadata": {},
   "outputs": [],
   "source": [
    "def get_features(text_list, feature): #do not change def line\n",
    "    #debug the line below - you must leave it as list comprehension\n",
    "    return [item for item in text_list if feature in item]"
   ]
  },
  {
   "cell_type": "code",
   "execution_count": 16,
   "id": "d4e19faa",
   "metadata": {},
   "outputs": [
    {
     "data": {
      "text/plain": [
       "['#every', '#corner', '#tacos']"
      ]
     },
     "execution_count": 16,
     "metadata": {},
     "output_type": "execute_result"
    }
   ],
   "source": [
    "text_list = ['Taco', 'trucks', 'on', '#every', '#corner', 'Business', 'group', 'wants', 'them', 'at', 'every', 'polling', 'site', 'insteadpolitics', '#tacos']\n",
    "feature = '#'\n",
    "get_features(text_list, feature)\n"
   ]
  }
 ],
 "metadata": {
  "kernelspec": {
   "display_name": "Python 3 (ipykernel)",
   "language": "python",
   "name": "python3"
  },
  "language_info": {
   "codemirror_mode": {
    "name": "ipython",
    "version": 3
   },
   "file_extension": ".py",
   "mimetype": "text/x-python",
   "name": "python",
   "nbconvert_exporter": "python",
   "pygments_lexer": "ipython3",
   "version": "3.9.12"
  }
 },
 "nbformat": 4,
 "nbformat_minor": 5
}
