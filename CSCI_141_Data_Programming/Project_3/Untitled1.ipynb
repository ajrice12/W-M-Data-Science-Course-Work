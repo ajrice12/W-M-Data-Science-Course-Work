{
 "cells": [
  {
   "cell_type": "code",
   "execution_count": null,
   "id": "20a8a787",
   "metadata": {},
   "outputs": [],
   "source": [
    "def process_text(text, punct = '.,;:\"?!.'): #do not change def line\n",
    "    text = text.replace('#' and '@', ' #' and ' @')\n",
    "    text"
   ]
  }
 ],
 "metadata": {
  "kernelspec": {
   "display_name": "Python 3 (ipykernel)",
   "language": "python",
   "name": "python3"
  },
  "language_info": {
   "codemirror_mode": {
    "name": "ipython",
    "version": 3
   },
   "file_extension": ".py",
   "mimetype": "text/x-python",
   "name": "python",
   "nbconvert_exporter": "python",
   "pygments_lexer": "ipython3",
   "version": "3.9.12"
  }
 },
 "nbformat": 4,
 "nbformat_minor": 5
}
