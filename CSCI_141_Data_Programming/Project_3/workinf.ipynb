{
 "cells": [
  {
   "cell_type": "code",
   "execution_count": 2,
   "id": "2d100ef7",
   "metadata": {},
   "outputs": [
    {
     "ename": "ModuleNotFoundError",
     "evalue": "No module named 'Project_3'",
     "output_type": "error",
     "traceback": [
      "\u001b[1;31m---------------------------------------------------------------------------\u001b[0m",
      "\u001b[1;31mModuleNotFoundError\u001b[0m                       Traceback (most recent call last)",
      "Input \u001b[1;32mIn [2]\u001b[0m, in \u001b[0;36m<cell line: 1>\u001b[1;34m()\u001b[0m\n\u001b[1;32m----> 1\u001b[0m \u001b[38;5;28;01mimport\u001b[39;00m \u001b[38;5;21;01mProject_3\u001b[39;00m\n\u001b[0;32m      3\u001b[0m \u001b[38;5;66;03m#Create and print a dictionary containing all of the hashtags from the Tortoise data set. Be sure to assign a variable name to this dictionary.\u001b[39;00m\n\u001b[0;32m      4\u001b[0m Dictionary_1 \u001b[38;5;241m=\u001b[39m feature_extract(\u001b[38;5;124m\"\u001b[39m\u001b[38;5;124mtortoise_tweets.txt\u001b[39m\u001b[38;5;124m\"\u001b[39m, features \u001b[38;5;241m=\u001b[39m \u001b[38;5;124m\"\u001b[39m\u001b[38;5;124m#\u001b[39m\u001b[38;5;124m\"\u001b[39m)\n",
      "\u001b[1;31mModuleNotFoundError\u001b[0m: No module named 'Project_3'"
     ]
    }
   ],
   "source": [
    "import Project_3\n",
    "\n",
    "#Create and print a dictionary containing all of the hashtags from the Tortoise data set. Be sure to assign a variable name to this dictionary.\n",
    "Dictionary_1 = feature_extract(\"tortoise_tweets.txt\", features = \"#\")\n",
    "print(Dictionary_1)\n",
    "#Create and print a dictionary containing all of the hashtags from the Umbrella data set. Be sure to assign a variable name to the dictionary.\n",
    "Dictionary_2 = {}\n",
    "print(Dictionary_2)\n",
    "#Create and print a dictionary containing all of the mentions from the Tortoise data set. Be sure to assign a variable name to this dictionary.\n",
    "Dictionary_3 = {}\n",
    "print(Dictionary_3)\n",
    "#Create and print a dictionary containing all of the mentions from the Umbrella data set. Be sure to assign a variable name to the dictionary.\n",
    "Dictionary_4 = {}\n",
    "print(Dictionary_4)\n",
    "#Find and print all of the mentions that are shared by the two data sets (i.e. the mentions that can be found in both). Print these out.\n",
    "#Find all of the hashtags that are in the Tortoise data set but not the Umbrella data set. Print these out.\n"
   ]
  }
 ],
 "metadata": {
  "kernelspec": {
   "display_name": "Python 3 (ipykernel)",
   "language": "python",
   "name": "python3"
  },
  "language_info": {
   "codemirror_mode": {
    "name": "ipython",
    "version": 3
   },
   "file_extension": ".py",
   "mimetype": "text/x-python",
   "name": "python",
   "nbconvert_exporter": "python",
   "pygments_lexer": "ipython3",
   "version": "3.9.12"
  }
 },
 "nbformat": 4,
 "nbformat_minor": 5
}
