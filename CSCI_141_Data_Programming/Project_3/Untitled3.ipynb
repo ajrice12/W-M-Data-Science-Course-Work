{
 "cells": [
  {
   "cell_type": "code",
   "execution_count": 7,
   "id": "bd665411",
   "metadata": {},
   "outputs": [],
   "source": [
    "def feature_extract(filename, feature = '#'): #do not change def line\n",
    "    with open(filename,'r', encoding = 'UTF8') as data:\n",
    "        text = data.read()\n",
    "        word = get_features(text, feature)\n",
    "        print(text)"
   ]
  },
  {
   "cell_type": "code",
   "execution_count": null,
   "id": "1a02fe3e",
   "metadata": {},
   "outputs": [],
   "source": [
    "feature_extract()"
   ]
  }
 ],
 "metadata": {
  "kernelspec": {
   "display_name": "Python 3 (ipykernel)",
   "language": "python",
   "name": "python3"
  },
  "language_info": {
   "codemirror_mode": {
    "name": "ipython",
    "version": 3
   },
   "file_extension": ".py",
   "mimetype": "text/x-python",
   "name": "python",
   "nbconvert_exporter": "python",
   "pygments_lexer": "ipython3",
   "version": "3.9.12"
  }
 },
 "nbformat": 4,
 "nbformat_minor": 5
}
