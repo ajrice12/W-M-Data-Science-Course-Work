{
 "cells": [
  {
   "cell_type": "code",
   "execution_count": 7,
   "id": "1233b921",
   "metadata": {},
   "outputs": [],
   "source": [
    "import pandas as pd\n",
    "import seaborn as sns\n",
    "import matplotlib.pyplot as plt\n",
    "from Project_4 import*\n",
    "#Write your def lines and functions below\n",
    "#The def lines you create must match the specifications exactly\n",
    "#You cannot change the names of the functions, the variables, or the default arguments\n",
    "#Expect a large grade penalty if your def lines are not correct\n",
    "#This file should not contain any function calls or any code that is not part of a function definition\n",
    "#This means any code unindented besides a def line or the import lines at the top\n",
    "def make_subset(df, region = None, vaccine = None, year = None):\n",
    "    # the objective of this function is to make a copy/subset of the data provided by the user, and return only the information\n",
    "    s = df.copy()#makes a subset\n",
    "    if region != None:#info the is info being given by the user\n",
    "        s = s.loc[s['Region'].isin(region)]# create new subset presenting only info relating to region\n",
    "    if vaccine != None:#info the is info being given by the user\n",
    "        s = s.loc[s['Vaccine'].isin(vaccine)]#create new subset presenting only info relating to Vaccine\n",
    "    if year != None:#info the is info being given by the user\n",
    "        s = s.loc[s['Year'].isin(year)]#create new subset presenting only info relating to Year\n",
    "    return s # return the new subset\n",
    "\n",
    "def make_plot(series_object, title ='', bar = True):\n",
    "    if bar == True:# if the graph is a bar\n",
    "        plot = sns.barplot(s = series_object.values, d = series_object.index, orient = 'h')#sets up the info in a bar graph\n",
    "        plt.title(title)#sets up the title\n",
    "    else:# makes it a line plot\n",
    "        plot = sns.lineplot(s = series_object.index, d = series_object.values)#sets up the info into a line plot\n",
    "        plt.xticks(rotation = 90)#changes rotation\n",
    "        plt.title(title)#sets up title\n",
    "    return plot# returns graphs"
   ]
  }
 ],
 "metadata": {
  "kernelspec": {
   "display_name": "Python 3 (ipykernel)",
   "language": "python",
   "name": "python3"
  },
  "language_info": {
   "codemirror_mode": {
    "name": "ipython",
    "version": 3
   },
   "file_extension": ".py",
   "mimetype": "text/x-python",
   "name": "python",
   "nbconvert_exporter": "python",
   "pygments_lexer": "ipython3",
   "version": "3.9.12"
  }
 },
 "nbformat": 4,
 "nbformat_minor": 5
}
