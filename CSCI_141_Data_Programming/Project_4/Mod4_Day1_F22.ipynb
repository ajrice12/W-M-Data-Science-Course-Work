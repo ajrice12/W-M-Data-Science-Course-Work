{
 "cells": [
  {
   "cell_type": "code",
   "execution_count": 1,
   "metadata": {},
   "outputs": [],
   "source": [
    "import pandas as pd\n",
    "import numpy as np"
   ]
  },
  {
   "cell_type": "markdown",
   "metadata": {},
   "source": [
    "### Series"
   ]
  },
  {
   "cell_type": "code",
   "execution_count": 3,
   "metadata": {},
   "outputs": [
    {
     "name": "stdout",
     "output_type": "stream",
     "text": [
      "{\"'State'\": \"'Unemployment'\", 'AL': '7.1', 'AK': '6.8', 'AZ': '8.1', 'AR': '7.2', 'CA': '10.1', 'CO': '7.7', 'CT': '8.4', 'DE': '7.1', 'FL': '8.2', 'GA': '8.8', 'HI': '5.4', 'ID': '6.6', 'IL': '8.8', 'IN': '8.4', 'IA': '5.1', 'KS': '5.6', 'KY': '8.1', 'LA': '5.9', 'ME': '7.2', 'MD': '6.8', 'MA': '6.7', 'MI': '9.1', 'MN': '5.6', 'MS': '9.1', 'MO': '6.7', 'MT': '5.8', 'NE': '3.9', 'NV': '10.3', 'NH': '5.7', 'NJ': '9.6', 'NM': '6.8', 'NY': '8.4', 'NC': '9.4', 'ND': '3.2', 'OH': '6.9', 'OK': '5.2', 'OR': '8.5', 'PA': '8', 'RI': '10.1', 'SC': '8.8', 'SD': '4.4', 'TN': '7.8', 'TX': '6.4', 'UT': '5.5', 'VT': '5', 'VA': '5.8', 'WA': '7.8', 'WV': '7.5', 'WI': '6.8', 'WY': '5.1'}\n"
     ]
    }
   ],
   "source": [
    "with open('US_Unemployment_Oct2012.csv', 'r', encoding = 'UTF8') as unemp:\n",
    "    #x = unemp.readline()\n",
    "    #print(x)\n",
    "    data = {}\n",
    "    for line in unemp:\n",
    "        #print(line)\n",
    "        info = line.rstrip().split(',')\n",
    "        data[info[0]]= (info[1])\n",
    "print(data)"
   ]
  },
  {
   "cell_type": "code",
   "execution_count": 4,
   "metadata": {},
   "outputs": [],
   "source": [
    "data_series = pd.Series(data)"
   ]
  },
  {
   "cell_type": "code",
   "execution_count": 5,
   "metadata": {},
   "outputs": [
    {
     "data": {
      "text/plain": [
       "'State'    'Unemployment'\n",
       "AL                    7.1\n",
       "AK                    6.8\n",
       "AZ                    8.1\n",
       "AR                    7.2\n",
       "CA                   10.1\n",
       "CO                    7.7\n",
       "CT                    8.4\n",
       "DE                    7.1\n",
       "FL                    8.2\n",
       "GA                    8.8\n",
       "HI                    5.4\n",
       "ID                    6.6\n",
       "IL                    8.8\n",
       "IN                    8.4\n",
       "IA                    5.1\n",
       "KS                    5.6\n",
       "KY                    8.1\n",
       "LA                    5.9\n",
       "ME                    7.2\n",
       "MD                    6.8\n",
       "MA                    6.7\n",
       "MI                    9.1\n",
       "MN                    5.6\n",
       "MS                    9.1\n",
       "MO                    6.7\n",
       "MT                    5.8\n",
       "NE                    3.9\n",
       "NV                   10.3\n",
       "NH                    5.7\n",
       "NJ                    9.6\n",
       "NM                    6.8\n",
       "NY                    8.4\n",
       "NC                    9.4\n",
       "ND                    3.2\n",
       "OH                    6.9\n",
       "OK                    5.2\n",
       "OR                    8.5\n",
       "PA                      8\n",
       "RI                   10.1\n",
       "SC                    8.8\n",
       "SD                    4.4\n",
       "TN                    7.8\n",
       "TX                    6.4\n",
       "UT                    5.5\n",
       "VT                      5\n",
       "VA                    5.8\n",
       "WA                    7.8\n",
       "WV                    7.5\n",
       "WI                    6.8\n",
       "WY                    5.1\n",
       "dtype: object"
      ]
     },
     "execution_count": 5,
     "metadata": {},
     "output_type": "execute_result"
    }
   ],
   "source": [
    "data_series"
   ]
  },
  {
   "cell_type": "code",
   "execution_count": 13,
   "metadata": {},
   "outputs": [
    {
     "ename": "KeyError",
     "evalue": "'[\"\\'State\\'\"] not found in axis'",
     "output_type": "error",
     "traceback": [
      "\u001b[1;31m---------------------------------------------------------------------------\u001b[0m",
      "\u001b[1;31mKeyError\u001b[0m                                  Traceback (most recent call last)",
      "Input \u001b[1;32mIn [13]\u001b[0m, in \u001b[0;36m<cell line: 1>\u001b[1;34m()\u001b[0m\n\u001b[1;32m----> 1\u001b[0m \u001b[43mdata_series\u001b[49m\u001b[38;5;241;43m.\u001b[39;49m\u001b[43mdrop\u001b[49m\u001b[43m(\u001b[49m\u001b[43m[\u001b[49m\u001b[38;5;124;43m\"\u001b[39;49m\u001b[38;5;124;43m'\u001b[39;49m\u001b[38;5;124;43mState\u001b[39;49m\u001b[38;5;124;43m'\u001b[39;49m\u001b[38;5;124;43m\"\u001b[39;49m\u001b[43m]\u001b[49m\u001b[43m,\u001b[49m\u001b[43m \u001b[49m\u001b[43minplace\u001b[49m\u001b[43m \u001b[49m\u001b[38;5;241;43m=\u001b[39;49m\u001b[43m \u001b[49m\u001b[38;5;28;43;01mTrue\u001b[39;49;00m\u001b[43m)\u001b[49m\n",
      "File \u001b[1;32m~\\anaconda3\\lib\\site-packages\\pandas\\util\\_decorators.py:311\u001b[0m, in \u001b[0;36mdeprecate_nonkeyword_arguments.<locals>.decorate.<locals>.wrapper\u001b[1;34m(*args, **kwargs)\u001b[0m\n\u001b[0;32m    305\u001b[0m \u001b[38;5;28;01mif\u001b[39;00m \u001b[38;5;28mlen\u001b[39m(args) \u001b[38;5;241m>\u001b[39m num_allow_args:\n\u001b[0;32m    306\u001b[0m     warnings\u001b[38;5;241m.\u001b[39mwarn(\n\u001b[0;32m    307\u001b[0m         msg\u001b[38;5;241m.\u001b[39mformat(arguments\u001b[38;5;241m=\u001b[39marguments),\n\u001b[0;32m    308\u001b[0m         \u001b[38;5;167;01mFutureWarning\u001b[39;00m,\n\u001b[0;32m    309\u001b[0m         stacklevel\u001b[38;5;241m=\u001b[39mstacklevel,\n\u001b[0;32m    310\u001b[0m     )\n\u001b[1;32m--> 311\u001b[0m \u001b[38;5;28;01mreturn\u001b[39;00m func(\u001b[38;5;241m*\u001b[39margs, \u001b[38;5;241m*\u001b[39m\u001b[38;5;241m*\u001b[39mkwargs)\n",
      "File \u001b[1;32m~\\anaconda3\\lib\\site-packages\\pandas\\core\\series.py:4771\u001b[0m, in \u001b[0;36mSeries.drop\u001b[1;34m(self, labels, axis, index, columns, level, inplace, errors)\u001b[0m\n\u001b[0;32m   4674\u001b[0m \u001b[38;5;129m@deprecate_nonkeyword_arguments\u001b[39m(version\u001b[38;5;241m=\u001b[39m\u001b[38;5;28;01mNone\u001b[39;00m, allowed_args\u001b[38;5;241m=\u001b[39m[\u001b[38;5;124m\"\u001b[39m\u001b[38;5;124mself\u001b[39m\u001b[38;5;124m\"\u001b[39m, \u001b[38;5;124m\"\u001b[39m\u001b[38;5;124mlabels\u001b[39m\u001b[38;5;124m\"\u001b[39m])\n\u001b[0;32m   4675\u001b[0m \u001b[38;5;28;01mdef\u001b[39;00m \u001b[38;5;21mdrop\u001b[39m(\n\u001b[0;32m   4676\u001b[0m     \u001b[38;5;28mself\u001b[39m,\n\u001b[1;32m   (...)\u001b[0m\n\u001b[0;32m   4683\u001b[0m     errors\u001b[38;5;241m=\u001b[39m\u001b[38;5;124m\"\u001b[39m\u001b[38;5;124mraise\u001b[39m\u001b[38;5;124m\"\u001b[39m,\n\u001b[0;32m   4684\u001b[0m ) \u001b[38;5;241m-\u001b[39m\u001b[38;5;241m>\u001b[39m Series:\n\u001b[0;32m   4685\u001b[0m     \u001b[38;5;124;03m\"\"\"\u001b[39;00m\n\u001b[0;32m   4686\u001b[0m \u001b[38;5;124;03m    Return Series with specified index labels removed.\u001b[39;00m\n\u001b[0;32m   4687\u001b[0m \n\u001b[1;32m   (...)\u001b[0m\n\u001b[0;32m   4769\u001b[0m \u001b[38;5;124;03m    dtype: float64\u001b[39;00m\n\u001b[0;32m   4770\u001b[0m \u001b[38;5;124;03m    \"\"\"\u001b[39;00m\n\u001b[1;32m-> 4771\u001b[0m     \u001b[38;5;28;01mreturn\u001b[39;00m \u001b[38;5;28;43msuper\u001b[39;49m\u001b[43m(\u001b[49m\u001b[43m)\u001b[49m\u001b[38;5;241;43m.\u001b[39;49m\u001b[43mdrop\u001b[49m\u001b[43m(\u001b[49m\n\u001b[0;32m   4772\u001b[0m \u001b[43m        \u001b[49m\u001b[43mlabels\u001b[49m\u001b[38;5;241;43m=\u001b[39;49m\u001b[43mlabels\u001b[49m\u001b[43m,\u001b[49m\n\u001b[0;32m   4773\u001b[0m \u001b[43m        \u001b[49m\u001b[43maxis\u001b[49m\u001b[38;5;241;43m=\u001b[39;49m\u001b[43maxis\u001b[49m\u001b[43m,\u001b[49m\n\u001b[0;32m   4774\u001b[0m \u001b[43m        \u001b[49m\u001b[43mindex\u001b[49m\u001b[38;5;241;43m=\u001b[39;49m\u001b[43mindex\u001b[49m\u001b[43m,\u001b[49m\n\u001b[0;32m   4775\u001b[0m \u001b[43m        \u001b[49m\u001b[43mcolumns\u001b[49m\u001b[38;5;241;43m=\u001b[39;49m\u001b[43mcolumns\u001b[49m\u001b[43m,\u001b[49m\n\u001b[0;32m   4776\u001b[0m \u001b[43m        \u001b[49m\u001b[43mlevel\u001b[49m\u001b[38;5;241;43m=\u001b[39;49m\u001b[43mlevel\u001b[49m\u001b[43m,\u001b[49m\n\u001b[0;32m   4777\u001b[0m \u001b[43m        \u001b[49m\u001b[43minplace\u001b[49m\u001b[38;5;241;43m=\u001b[39;49m\u001b[43minplace\u001b[49m\u001b[43m,\u001b[49m\n\u001b[0;32m   4778\u001b[0m \u001b[43m        \u001b[49m\u001b[43merrors\u001b[49m\u001b[38;5;241;43m=\u001b[39;49m\u001b[43merrors\u001b[49m\u001b[43m,\u001b[49m\n\u001b[0;32m   4779\u001b[0m \u001b[43m    \u001b[49m\u001b[43m)\u001b[49m\n",
      "File \u001b[1;32m~\\anaconda3\\lib\\site-packages\\pandas\\core\\generic.py:4267\u001b[0m, in \u001b[0;36mNDFrame.drop\u001b[1;34m(self, labels, axis, index, columns, level, inplace, errors)\u001b[0m\n\u001b[0;32m   4265\u001b[0m \u001b[38;5;28;01mfor\u001b[39;00m axis, labels \u001b[38;5;129;01min\u001b[39;00m axes\u001b[38;5;241m.\u001b[39mitems():\n\u001b[0;32m   4266\u001b[0m     \u001b[38;5;28;01mif\u001b[39;00m labels \u001b[38;5;129;01mis\u001b[39;00m \u001b[38;5;129;01mnot\u001b[39;00m \u001b[38;5;28;01mNone\u001b[39;00m:\n\u001b[1;32m-> 4267\u001b[0m         obj \u001b[38;5;241m=\u001b[39m \u001b[43mobj\u001b[49m\u001b[38;5;241;43m.\u001b[39;49m\u001b[43m_drop_axis\u001b[49m\u001b[43m(\u001b[49m\u001b[43mlabels\u001b[49m\u001b[43m,\u001b[49m\u001b[43m \u001b[49m\u001b[43maxis\u001b[49m\u001b[43m,\u001b[49m\u001b[43m \u001b[49m\u001b[43mlevel\u001b[49m\u001b[38;5;241;43m=\u001b[39;49m\u001b[43mlevel\u001b[49m\u001b[43m,\u001b[49m\u001b[43m \u001b[49m\u001b[43merrors\u001b[49m\u001b[38;5;241;43m=\u001b[39;49m\u001b[43merrors\u001b[49m\u001b[43m)\u001b[49m\n\u001b[0;32m   4269\u001b[0m \u001b[38;5;28;01mif\u001b[39;00m inplace:\n\u001b[0;32m   4270\u001b[0m     \u001b[38;5;28mself\u001b[39m\u001b[38;5;241m.\u001b[39m_update_inplace(obj)\n",
      "File \u001b[1;32m~\\anaconda3\\lib\\site-packages\\pandas\\core\\generic.py:4311\u001b[0m, in \u001b[0;36mNDFrame._drop_axis\u001b[1;34m(self, labels, axis, level, errors, consolidate, only_slice)\u001b[0m\n\u001b[0;32m   4309\u001b[0m         new_axis \u001b[38;5;241m=\u001b[39m axis\u001b[38;5;241m.\u001b[39mdrop(labels, level\u001b[38;5;241m=\u001b[39mlevel, errors\u001b[38;5;241m=\u001b[39merrors)\n\u001b[0;32m   4310\u001b[0m     \u001b[38;5;28;01melse\u001b[39;00m:\n\u001b[1;32m-> 4311\u001b[0m         new_axis \u001b[38;5;241m=\u001b[39m \u001b[43maxis\u001b[49m\u001b[38;5;241;43m.\u001b[39;49m\u001b[43mdrop\u001b[49m\u001b[43m(\u001b[49m\u001b[43mlabels\u001b[49m\u001b[43m,\u001b[49m\u001b[43m \u001b[49m\u001b[43merrors\u001b[49m\u001b[38;5;241;43m=\u001b[39;49m\u001b[43merrors\u001b[49m\u001b[43m)\u001b[49m\n\u001b[0;32m   4312\u001b[0m     indexer \u001b[38;5;241m=\u001b[39m axis\u001b[38;5;241m.\u001b[39mget_indexer(new_axis)\n\u001b[0;32m   4314\u001b[0m \u001b[38;5;66;03m# Case for non-unique axis\u001b[39;00m\n\u001b[0;32m   4315\u001b[0m \u001b[38;5;28;01melse\u001b[39;00m:\n",
      "File \u001b[1;32m~\\anaconda3\\lib\\site-packages\\pandas\\core\\indexes\\base.py:6644\u001b[0m, in \u001b[0;36mIndex.drop\u001b[1;34m(self, labels, errors)\u001b[0m\n\u001b[0;32m   6642\u001b[0m \u001b[38;5;28;01mif\u001b[39;00m mask\u001b[38;5;241m.\u001b[39many():\n\u001b[0;32m   6643\u001b[0m     \u001b[38;5;28;01mif\u001b[39;00m errors \u001b[38;5;241m!=\u001b[39m \u001b[38;5;124m\"\u001b[39m\u001b[38;5;124mignore\u001b[39m\u001b[38;5;124m\"\u001b[39m:\n\u001b[1;32m-> 6644\u001b[0m         \u001b[38;5;28;01mraise\u001b[39;00m \u001b[38;5;167;01mKeyError\u001b[39;00m(\u001b[38;5;124mf\u001b[39m\u001b[38;5;124m\"\u001b[39m\u001b[38;5;132;01m{\u001b[39;00m\u001b[38;5;28mlist\u001b[39m(labels[mask])\u001b[38;5;132;01m}\u001b[39;00m\u001b[38;5;124m not found in axis\u001b[39m\u001b[38;5;124m\"\u001b[39m)\n\u001b[0;32m   6645\u001b[0m     indexer \u001b[38;5;241m=\u001b[39m indexer[\u001b[38;5;241m~\u001b[39mmask]\n\u001b[0;32m   6646\u001b[0m \u001b[38;5;28;01mreturn\u001b[39;00m \u001b[38;5;28mself\u001b[39m\u001b[38;5;241m.\u001b[39mdelete(indexer)\n",
      "\u001b[1;31mKeyError\u001b[0m: '[\"\\'State\\'\"] not found in axis'"
     ]
    }
   ],
   "source": [
    "data_series.drop([\"'State'\"], inplace = True)# must tell python wether your dropping a row or a column, or you will get an error"
   ]
  },
  {
   "cell_type": "code",
   "execution_count": 1,
   "metadata": {},
   "outputs": [
    {
     "ename": "NameError",
     "evalue": "name 'data_series' is not defined",
     "output_type": "error",
     "traceback": [
      "\u001b[1;31m---------------------------------------------------------------------------\u001b[0m",
      "\u001b[1;31mNameError\u001b[0m                                 Traceback (most recent call last)",
      "Input \u001b[1;32mIn [1]\u001b[0m, in \u001b[0;36m<cell line: 1>\u001b[1;34m()\u001b[0m\n\u001b[1;32m----> 1\u001b[0m data_series \u001b[38;5;241m=\u001b[39m \u001b[43mdata_series\u001b[49m\u001b[38;5;241m.\u001b[39mastype(\u001b[38;5;28mfloat\u001b[39m)\n",
      "\u001b[1;31mNameError\u001b[0m: name 'data_series' is not defined"
     ]
    }
   ],
   "source": [
    "data_series = data_series.astype(float)"
   ]
  },
  {
   "cell_type": "code",
   "execution_count": 17,
   "metadata": {},
   "outputs": [
    {
     "data": {
      "text/plain": [
       "dtype('float64')"
      ]
     },
     "execution_count": 17,
     "metadata": {},
     "output_type": "execute_result"
    }
   ],
   "source": [
    "data_series.dtype"
   ]
  },
  {
   "cell_type": "code",
   "execution_count": 22,
   "metadata": {},
   "outputs": [
    {
     "name": "stdout",
     "output_type": "stream",
     "text": [
      "[ 7.1  6.8  8.1  7.2 10.1  7.7  8.4  7.1  8.2  8.8  5.4  6.6  8.8  8.4\n",
      "  5.1  5.6  8.1  5.9  7.2  6.8  6.7  9.1  5.6  9.1  6.7  5.8  3.9 10.3\n",
      "  5.7  9.6  6.8  8.4  9.4  3.2  6.9  5.2  8.5  8.  10.1  8.8  4.4  7.8\n",
      "  6.4  5.5  5.   5.8  7.8  7.5  6.8  5.1]\n",
      "Index(['AL', 'AK', 'AZ', 'AR', 'CA', 'CO', 'CT', 'DE', 'FL', 'GA', 'HI', 'ID',\n",
      "       'IL', 'IN', 'IA', 'KS', 'KY', 'LA', 'ME', 'MD', 'MA', 'MI', 'MN', 'MS',\n",
      "       'MO', 'MT', 'NE', 'NV', 'NH', 'NJ', 'NM', 'NY', 'NC', 'ND', 'OH', 'OK',\n",
      "       'OR', 'PA', 'RI', 'SC', 'SD', 'TN', 'TX', 'UT', 'VT', 'VA', 'WA', 'WV',\n",
      "       'WI', 'WY'],\n",
      "      dtype='object')\n"
     ]
    },
    {
     "data": {
      "text/plain": [
       "8.4"
      ]
     },
     "execution_count": 22,
     "metadata": {},
     "output_type": "execute_result"
    }
   ],
   "source": [
    "print(data_series.values)\n",
    "print(data_series.index)\n",
    "data_series.loc['CA']\n",
    "data_series.iloc[6]"
   ]
  },
  {
   "cell_type": "code",
   "execution_count": 23,
   "metadata": {},
   "outputs": [
    {
     "data": {
      "text/plain": [
       "CA    10.1\n",
       "CO     7.7\n",
       "CT     8.4\n",
       "DE     7.1\n",
       "FL     8.2\n",
       "GA     8.8\n",
       "HI     5.4\n",
       "ID     6.6\n",
       "dtype: float64"
      ]
     },
     "execution_count": 23,
     "metadata": {},
     "output_type": "execute_result"
    }
   ],
   "source": [
    "data_series['CA':'ID']"
   ]
  },
  {
   "cell_type": "code",
   "execution_count": 25,
   "metadata": {},
   "outputs": [
    {
     "data": {
      "text/plain": [
       "AL    0.00071\n",
       "AK    0.00068\n",
       "AZ    0.00081\n",
       "AR    0.00072\n",
       "CA    0.00101\n",
       "CO    0.00077\n",
       "CT    0.00084\n",
       "DE    0.00071\n",
       "FL    0.00082\n",
       "GA    0.00088\n",
       "HI    0.00054\n",
       "ID    0.00066\n",
       "IL    0.00088\n",
       "IN    0.00084\n",
       "IA    0.00051\n",
       "KS    0.00056\n",
       "KY    0.00081\n",
       "LA    0.00059\n",
       "ME    0.00072\n",
       "MD    0.00068\n",
       "MA    0.00067\n",
       "MI    0.00091\n",
       "MN    0.00056\n",
       "MS    0.00091\n",
       "MO    0.00067\n",
       "MT    0.00058\n",
       "NE    0.00039\n",
       "NV    0.00103\n",
       "NH    0.00057\n",
       "NJ    0.00096\n",
       "NM    0.00068\n",
       "NY    0.00084\n",
       "NC    0.00094\n",
       "ND    0.00032\n",
       "OH    0.00069\n",
       "OK    0.00052\n",
       "OR    0.00085\n",
       "PA    0.00080\n",
       "RI    0.00101\n",
       "SC    0.00088\n",
       "SD    0.00044\n",
       "TN    0.00078\n",
       "TX    0.00064\n",
       "UT    0.00055\n",
       "VT    0.00050\n",
       "VA    0.00058\n",
       "WA    0.00078\n",
       "WV    0.00075\n",
       "WI    0.00068\n",
       "WY    0.00051\n",
       "dtype: float64"
      ]
     },
     "execution_count": 25,
     "metadata": {},
     "output_type": "execute_result"
    }
   ],
   "source": [
    "data_series = data_series/100\n",
    "data_series"
   ]
  },
  {
   "cell_type": "markdown",
   "metadata": {},
   "source": [
    "### Dataframes"
   ]
  },
  {
   "cell_type": "code",
   "execution_count": null,
   "metadata": {},
   "outputs": [],
   "source": [
    "#Fire data subsetted from https://www.vbgov.com/government/departments/stir/transparency/Pages/open-data.aspx"
   ]
  },
  {
   "cell_type": "code",
   "execution_count": 27,
   "metadata": {},
   "outputs": [
    {
     "data": {
      "text/html": [
       "<div>\n",
       "<style scoped>\n",
       "    .dataframe tbody tr th:only-of-type {\n",
       "        vertical-align: middle;\n",
       "    }\n",
       "\n",
       "    .dataframe tbody tr th {\n",
       "        vertical-align: top;\n",
       "    }\n",
       "\n",
       "    .dataframe thead th {\n",
       "        text-align: right;\n",
       "    }\n",
       "</style>\n",
       "<table border=\"1\" class=\"dataframe\">\n",
       "  <thead>\n",
       "    <tr style=\"text-align: right;\">\n",
       "      <th></th>\n",
       "      <th>Incident Type</th>\n",
       "      <th>Call Date and Time</th>\n",
       "      <th>Year</th>\n",
       "      <th>Incident Location</th>\n",
       "      <th>Battalion</th>\n",
       "      <th>Station Area</th>\n",
       "      <th>Estimated Property Loss</th>\n",
       "      <th>Location 1</th>\n",
       "    </tr>\n",
       "  </thead>\n",
       "  <tbody>\n",
       "    <tr>\n",
       "      <th>0</th>\n",
       "      <td>Electrical  wiring/equipment problem, other</td>\n",
       "      <td>08/05/2012 03:54:23 AM</td>\n",
       "      <td>2012</td>\n",
       "      <td>2100 VISTA CI</td>\n",
       "      <td>2.0</td>\n",
       "      <td>ST01</td>\n",
       "      <td>20</td>\n",
       "      <td>2100 VISTA CI\\nVIRGINIA BEACH, VA 23451-\\n(36....</td>\n",
       "    </tr>\n",
       "    <tr>\n",
       "      <th>1</th>\n",
       "      <td>EMS call, excluding vehicle accident with injury</td>\n",
       "      <td>07/10/2014 02:52:41 PM</td>\n",
       "      <td>2014</td>\n",
       "      <td>1200 ATLANTIC SHORES DR</td>\n",
       "      <td>1.0</td>\n",
       "      <td>ST12</td>\n",
       "      <td>0</td>\n",
       "      <td>1200 ATLANTIC SHORES DR\\nVIRGINIA BEACH, VA 23...</td>\n",
       "    </tr>\n",
       "    <tr>\n",
       "      <th>2</th>\n",
       "      <td>EMS call, excluding vehicle accident with injury</td>\n",
       "      <td>08/09/2015 05:17:05 PM</td>\n",
       "      <td>2015</td>\n",
       "      <td>400 PRINCE OF WALES DR</td>\n",
       "      <td>2.0</td>\n",
       "      <td>ST20</td>\n",
       "      <td>0</td>\n",
       "      <td>400 PRINCE OF WALES DR\\nVIRGINIA BEACH, VA 234...</td>\n",
       "    </tr>\n",
       "    <tr>\n",
       "      <th>3</th>\n",
       "      <td>EMS call, excluding vehicle accident with injury</td>\n",
       "      <td>11/25/2011 08:11:40 AM</td>\n",
       "      <td>2011</td>\n",
       "      <td>2500 BAYVIEW AV</td>\n",
       "      <td>2.0</td>\n",
       "      <td>ST04</td>\n",
       "      <td>0</td>\n",
       "      <td>2500 BAYVIEW AV\\nVIRGINIA BEACH, VA 23455-\\n(3...</td>\n",
       "    </tr>\n",
       "    <tr>\n",
       "      <th>4</th>\n",
       "      <td>EMS call, excluding vehicle accident with injury</td>\n",
       "      <td>04/18/2015 12:49:49 PM</td>\n",
       "      <td>2015</td>\n",
       "      <td>100 HILL PRINCE RD</td>\n",
       "      <td>3.0</td>\n",
       "      <td>ST09</td>\n",
       "      <td>40</td>\n",
       "      <td>100 HILL PRINCE RD\\nVIRGINIA BEACH, VA 23462-\\...</td>\n",
       "    </tr>\n",
       "    <tr>\n",
       "      <th>5</th>\n",
       "      <td>EMS call, excluding vehicle accident with injury</td>\n",
       "      <td>09/04/2013 01:45:32 PM</td>\n",
       "      <td>2013</td>\n",
       "      <td>1800 COLONIAL ARMS CI</td>\n",
       "      <td>1.0</td>\n",
       "      <td>ST08</td>\n",
       "      <td>20</td>\n",
       "      <td>1800 COLONIAL ARMS CI\\nVIRGINIA BEACH, VA 2345...</td>\n",
       "    </tr>\n",
       "    <tr>\n",
       "      <th>6</th>\n",
       "      <td>EMS call, excluding vehicle accident with injury</td>\n",
       "      <td>05/13/2017 04:09:32 AM</td>\n",
       "      <td>2017</td>\n",
       "      <td>3800 CHANCERY LN</td>\n",
       "      <td>3.0</td>\n",
       "      <td>ST16</td>\n",
       "      <td>10</td>\n",
       "      <td>3800 CHANCERY LN\\nVIRGINIA BEACH, VA 23452-\\n(...</td>\n",
       "    </tr>\n",
       "    <tr>\n",
       "      <th>7</th>\n",
       "      <td>Alarm system activation, no fire - unintentional</td>\n",
       "      <td>08/29/2016 01:37:51 PM</td>\n",
       "      <td>2016</td>\n",
       "      <td>5800 WESLEYAN DR</td>\n",
       "      <td>2.0</td>\n",
       "      <td>ST02</td>\n",
       "      <td>30</td>\n",
       "      <td>5800 WESLEYAN DR\\nVIRGINIA BEACH, VA 23455-\\n(...</td>\n",
       "    </tr>\n",
       "    <tr>\n",
       "      <th>8</th>\n",
       "      <td>Brush or brush-and-grass mixture fire</td>\n",
       "      <td>07/23/2011 02:08:01 PM</td>\n",
       "      <td>2011</td>\n",
       "      <td>1800 COLONIAL ARMS CI</td>\n",
       "      <td>1.0</td>\n",
       "      <td>ST08</td>\n",
       "      <td>2000</td>\n",
       "      <td>1800 COLONIAL ARMS CI\\nVIRGINIA BEACH, VA 2345...</td>\n",
       "    </tr>\n",
       "    <tr>\n",
       "      <th>9</th>\n",
       "      <td>EMS call, excluding vehicle accident with injury</td>\n",
       "      <td>01/11/2012 11:10:34 AM</td>\n",
       "      <td>2012</td>\n",
       "      <td>100 INDIAN RIVER RD</td>\n",
       "      <td>3.0</td>\n",
       "      <td>ST10</td>\n",
       "      <td>0</td>\n",
       "      <td>100 INDIAN RIVER RD\\nVIRGINIA BEACH, VA 23464-\\n</td>\n",
       "    </tr>\n",
       "  </tbody>\n",
       "</table>\n",
       "</div>"
      ],
      "text/plain": [
       "                                      Incident Type      Call Date and Time  \\\n",
       "0       Electrical  wiring/equipment problem, other  08/05/2012 03:54:23 AM   \n",
       "1  EMS call, excluding vehicle accident with injury  07/10/2014 02:52:41 PM   \n",
       "2  EMS call, excluding vehicle accident with injury  08/09/2015 05:17:05 PM   \n",
       "3  EMS call, excluding vehicle accident with injury  11/25/2011 08:11:40 AM   \n",
       "4  EMS call, excluding vehicle accident with injury  04/18/2015 12:49:49 PM   \n",
       "5  EMS call, excluding vehicle accident with injury  09/04/2013 01:45:32 PM   \n",
       "6  EMS call, excluding vehicle accident with injury  05/13/2017 04:09:32 AM   \n",
       "7  Alarm system activation, no fire - unintentional  08/29/2016 01:37:51 PM   \n",
       "8             Brush or brush-and-grass mixture fire  07/23/2011 02:08:01 PM   \n",
       "9  EMS call, excluding vehicle accident with injury  01/11/2012 11:10:34 AM   \n",
       "\n",
       "   Year        Incident Location  Battalion Station Area  \\\n",
       "0  2012            2100 VISTA CI        2.0         ST01   \n",
       "1  2014  1200 ATLANTIC SHORES DR        1.0         ST12   \n",
       "2  2015   400 PRINCE OF WALES DR        2.0         ST20   \n",
       "3  2011          2500 BAYVIEW AV        2.0         ST04   \n",
       "4  2015       100 HILL PRINCE RD        3.0         ST09   \n",
       "5  2013    1800 COLONIAL ARMS CI        1.0         ST08   \n",
       "6  2017         3800 CHANCERY LN        3.0         ST16   \n",
       "7  2016         5800 WESLEYAN DR        2.0         ST02   \n",
       "8  2011    1800 COLONIAL ARMS CI        1.0         ST08   \n",
       "9  2012      100 INDIAN RIVER RD        3.0         ST10   \n",
       "\n",
       "   Estimated Property Loss                                         Location 1  \n",
       "0                       20  2100 VISTA CI\\nVIRGINIA BEACH, VA 23451-\\n(36....  \n",
       "1                        0  1200 ATLANTIC SHORES DR\\nVIRGINIA BEACH, VA 23...  \n",
       "2                        0  400 PRINCE OF WALES DR\\nVIRGINIA BEACH, VA 234...  \n",
       "3                        0  2500 BAYVIEW AV\\nVIRGINIA BEACH, VA 23455-\\n(3...  \n",
       "4                       40  100 HILL PRINCE RD\\nVIRGINIA BEACH, VA 23462-\\...  \n",
       "5                       20  1800 COLONIAL ARMS CI\\nVIRGINIA BEACH, VA 2345...  \n",
       "6                       10  3800 CHANCERY LN\\nVIRGINIA BEACH, VA 23452-\\n(...  \n",
       "7                       30  5800 WESLEYAN DR\\nVIRGINIA BEACH, VA 23455-\\n(...  \n",
       "8                     2000  1800 COLONIAL ARMS CI\\nVIRGINIA BEACH, VA 2345...  \n",
       "9                        0   100 INDIAN RIVER RD\\nVIRGINIA BEACH, VA 23464-\\n  "
      ]
     },
     "execution_count": 27,
     "metadata": {},
     "output_type": "execute_result"
    }
   ],
   "source": [
    "fire = pd.read_csv('Fire_Tiny.csv', index_col = 0, encoding='UTF8')\n",
    "fire"
   ]
  },
  {
   "cell_type": "markdown",
   "metadata": {},
   "source": [
    "### Selecting and subsetting\n"
   ]
  },
  {
   "cell_type": "code",
   "execution_count": 28,
   "metadata": {},
   "outputs": [
    {
     "data": {
      "text/plain": [
       "0    ST01\n",
       "1    ST12\n",
       "2    ST20\n",
       "3    ST04\n",
       "4    ST09\n",
       "5    ST08\n",
       "6    ST16\n",
       "7    ST02\n",
       "8    ST08\n",
       "9    ST10\n",
       "Name: Station Area, dtype: object"
      ]
     },
     "execution_count": 28,
     "metadata": {},
     "output_type": "execute_result"
    }
   ],
   "source": [
    "fire['Station Area']"
   ]
  },
  {
   "cell_type": "code",
   "execution_count": 29,
   "metadata": {},
   "outputs": [
    {
     "data": {
      "text/plain": [
       "Incident Type               EMS call, excluding vehicle accident with injury\n",
       "Call Date and Time                                    08/09/2015 05:17:05 PM\n",
       "Year                                                                    2015\n",
       "Incident Location                                     400 PRINCE OF WALES DR\n",
       "Battalion                                                                2.0\n",
       "Station Area                                                            ST20\n",
       "Estimated Property Loss                                                    0\n",
       "Location 1                 400 PRINCE OF WALES DR\\nVIRGINIA BEACH, VA 234...\n",
       "Name: 2, dtype: object"
      ]
     },
     "execution_count": 29,
     "metadata": {},
     "output_type": "execute_result"
    }
   ],
   "source": [
    "#Only station area 2\n",
    "fire.loc[2]"
   ]
  },
  {
   "cell_type": "code",
   "execution_count": 32,
   "metadata": {},
   "outputs": [
    {
     "data": {
      "text/plain": [
       "0    False\n",
       "1    False\n",
       "2     True\n",
       "3    False\n",
       "4    False\n",
       "5    False\n",
       "6    False\n",
       "7    False\n",
       "8    False\n",
       "9    False\n",
       "Name: Station Area, dtype: bool"
      ]
     },
     "execution_count": 32,
     "metadata": {},
     "output_type": "execute_result"
    }
   ],
   "source": [
    "#Station area 8 and 2013\n",
    "fire['Station Area'] == 'ST20'"
   ]
  },
  {
   "cell_type": "code",
   "execution_count": 38,
   "metadata": {},
   "outputs": [
    {
     "data": {
      "text/html": [
       "<div>\n",
       "<style scoped>\n",
       "    .dataframe tbody tr th:only-of-type {\n",
       "        vertical-align: middle;\n",
       "    }\n",
       "\n",
       "    .dataframe tbody tr th {\n",
       "        vertical-align: top;\n",
       "    }\n",
       "\n",
       "    .dataframe thead th {\n",
       "        text-align: right;\n",
       "    }\n",
       "</style>\n",
       "<table border=\"1\" class=\"dataframe\">\n",
       "  <thead>\n",
       "    <tr style=\"text-align: right;\">\n",
       "      <th></th>\n",
       "      <th>Incident Type</th>\n",
       "      <th>Call Date and Time</th>\n",
       "      <th>Year</th>\n",
       "      <th>Incident Location</th>\n",
       "      <th>Battalion</th>\n",
       "      <th>Station Area</th>\n",
       "      <th>Estimated Property Loss</th>\n",
       "      <th>Location 1</th>\n",
       "    </tr>\n",
       "  </thead>\n",
       "  <tbody>\n",
       "  </tbody>\n",
       "</table>\n",
       "</div>"
      ],
      "text/plain": [
       "Empty DataFrame\n",
       "Columns: [Incident Type, Call Date and Time, Year, Incident Location, Battalion, Station Area, Estimated Property Loss, Location 1]\n",
       "Index: []"
      ]
     },
     "execution_count": 38,
     "metadata": {},
     "output_type": "execute_result"
    }
   ],
   "source": [
    "fire_20 = fire.loc[fire['Station Area'] =='ST20']\n",
    "fire_20\n",
    "\n",
    "fire_2013 = fire.loc[(fire['Station Area'] == 'ST20') & (fire['Year'] == 2013)]\n",
    "fire_2013"
   ]
  },
  {
   "cell_type": "code",
   "execution_count": null,
   "metadata": {},
   "outputs": [],
   "source": [
    "#Remove all rows where Battalion is 2\n",
    "#Keep all rows where Battalion is NOT 2\n"
   ]
  },
  {
   "cell_type": "code",
   "execution_count": null,
   "metadata": {},
   "outputs": [],
   "source": [
    "#Everything but incidents in 2011"
   ]
  },
  {
   "cell_type": "code",
   "execution_count": null,
   "metadata": {},
   "outputs": [],
   "source": [
    "#All incidents with Property Loss greater than $50"
   ]
  }
 ],
 "metadata": {
  "kernelspec": {
   "display_name": "Python 3 (ipykernel)",
   "language": "python",
   "name": "python3"
  },
  "language_info": {
   "codemirror_mode": {
    "name": "ipython",
    "version": 3
   },
   "file_extension": ".py",
   "mimetype": "text/x-python",
   "name": "python",
   "nbconvert_exporter": "python",
   "pygments_lexer": "ipython3",
   "version": "3.9.12"
  }
 },
 "nbformat": 4,
 "nbformat_minor": 4
}
