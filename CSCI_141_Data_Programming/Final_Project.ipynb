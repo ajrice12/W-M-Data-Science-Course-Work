{
 "cells": [
  {
   "cell_type": "code",
   "execution_count": 4,
   "id": "76459cf6",
   "metadata": {},
   "outputs": [
    {
     "ename": "ModuleNotFoundError",
     "evalue": "No module named 'PasswordManager'",
     "output_type": "error",
     "traceback": [
      "\u001b[1;31m---------------------------------------------------------------------------\u001b[0m",
      "\u001b[1;31mModuleNotFoundError\u001b[0m                       Traceback (most recent call last)",
      "Input \u001b[1;32mIn [4]\u001b[0m, in \u001b[0;36m<cell line: 1>\u001b[1;34m()\u001b[0m\n\u001b[1;32m----> 1\u001b[0m \u001b[38;5;28;01mfrom\u001b[39;00m \u001b[38;5;21;01mPasswordManager\u001b[39;00m \u001b[38;5;28;01mimport\u001b[39;00m \u001b[38;5;241m*\u001b[39m\n\u001b[0;32m      2\u001b[0m \u001b[38;5;28;01mimport\u001b[39;00m \u001b[38;5;21;01mstring\u001b[39;00m\n\u001b[0;32m      3\u001b[0m \u001b[38;5;28;01mfrom\u001b[39;00m \u001b[38;5;21;01mrandom\u001b[39;00m \u001b[38;5;28;01mimport\u001b[39;00m randint, shuffle, sample, choices\n",
      "\u001b[1;31mModuleNotFoundError\u001b[0m: No module named 'PasswordManager'"
     ]
    }
   ],
   "source": [
    "from PasswordManager import *\n",
    "import string\n",
    "from random import randint, shuffle, sample, choices\n",
    "\n",
    "#Fill in your Main Program Here = PasswordManager(\"Student\", 'Final')\n",
    "test = PasswordManager('Student', 'FINAl')\n",
    "test.add_password('www.gmail.com', 'a_student')\n",
    "test.add_password('www.wm.edu', 'WMstudent', criteria = {'max_spec': 2, 'min_upper': 2})\n",
    "test.change_password('www.gmail.com', 'Final','update1235')\n",
    "test.get_site_info('www.wm.edu')\n",
    "test.get_site_info('www.gmail.com')\n",
    "print(test)"
   ]
  },
  {
   "cell_type": "code",
   "execution_count": null,
   "id": "0c1860b3",
   "metadata": {},
   "outputs": [],
   "source": []
  }
 ],
 "metadata": {
  "kernelspec": {
   "display_name": "Python 3 (ipykernel)",
   "language": "python",
   "name": "python3"
  },
  "language_info": {
   "codemirror_mode": {
    "name": "ipython",
    "version": 3
   },
   "file_extension": ".py",
   "mimetype": "text/x-python",
   "name": "python",
   "nbconvert_exporter": "python",
   "pygments_lexer": "ipython3",
   "version": "3.9.12"
  }
 },
 "nbformat": 4,
 "nbformat_minor": 5
}
